{
 "cells": [
  {
   "cell_type": "markdown",
   "metadata": {},
   "source": [
    "## 예제 9-5-4 outer 함수 처리  알아보기"
   ]
  },
  {
   "cell_type": "code",
   "execution_count": 1,
   "metadata": {},
   "outputs": [],
   "source": [
    "import numpy as np                ##  다차원 배열의 모듈을 사용한다. "
   ]
  },
  {
   "cell_type": "code",
   "execution_count": null,
   "metadata": {},
   "outputs": [],
   "source": []
  },
  {
   "cell_type": "code",
   "execution_count": null,
   "metadata": {},
   "outputs": [],
   "source": []
  },
  {
   "cell_type": "code",
   "execution_count": 3,
   "metadata": {},
   "outputs": [],
   "source": [
    "a = np.array([1,2,3])         ## 1차원 배열을 만든다"
   ]
  },
  {
   "cell_type": "code",
   "execution_count": 4,
   "metadata": {},
   "outputs": [],
   "source": [
    "b = np.array([5,6,7])"
   ]
  },
  {
   "cell_type": "code",
   "execution_count": 5,
   "metadata": {},
   "outputs": [
    {
     "data": {
      "text/plain": [
       "array([[ 5,  6,  7],\n",
       "       [10, 12, 14],\n",
       "       [15, 18, 21]])"
      ]
     },
     "execution_count": 5,
     "metadata": {},
     "output_type": "execute_result"
    }
   ],
   "source": [
    "np.outer(a,b)                               ## outer 함수로 두 벡터를 구한다. \n",
    "                                            ##  계산결과를 보면 열벡터와 행벡터의 곱셈으로 구해진 것을 알 수 있다, "
   ]
  },
  {
   "cell_type": "code",
   "execution_count": null,
   "metadata": {},
   "outputs": [],
   "source": []
  },
  {
   "cell_type": "code",
   "execution_count": 13,
   "metadata": {},
   "outputs": [],
   "source": [
    "x = np.array([[1,2,3], [4,5,6], [7, 8, 9]])      ## 두 개의 2차원 배열을 만든다 \n",
    "y = np.array([[7, 8, 9], [4,5,6], [1,2,3]])"
   ]
  },
  {
   "cell_type": "code",
   "execution_count": null,
   "metadata": {},
   "outputs": [],
   "source": []
  },
  {
   "cell_type": "code",
   "execution_count": 8,
   "metadata": {},
   "outputs": [
    {
     "data": {
      "text/plain": [
       "array([[ 7,  8,  9,  4,  5,  6,  1,  2,  3],\n",
       "       [14, 16, 18,  8, 10, 12,  2,  4,  6],\n",
       "       [21, 24, 27, 12, 15, 18,  3,  6,  9],\n",
       "       [28, 32, 36, 16, 20, 24,  4,  8, 12],\n",
       "       [35, 40, 45, 20, 25, 30,  5, 10, 15],\n",
       "       [42, 48, 54, 24, 30, 36,  6, 12, 18],\n",
       "       [49, 56, 63, 28, 35, 42,  7, 14, 21],\n",
       "       [56, 64, 72, 32, 40, 48,  8, 16, 24],\n",
       "       [63, 72, 81, 36, 45, 54,  9, 18, 27]])"
      ]
     },
     "execution_count": 8,
     "metadata": {},
     "output_type": "execute_result"
    }
   ],
   "source": [
    "np.outer(x,y)                                        ## 두 개의 2차원 배열의 outer 함수의 결과는 9행 9열이 된다. "
   ]
  },
  {
   "cell_type": "code",
   "execution_count": null,
   "metadata": {},
   "outputs": [],
   "source": []
  },
  {
   "cell_type": "code",
   "execution_count": 14,
   "metadata": {},
   "outputs": [],
   "source": [
    "x = np.reshape(x,(9,1))                    ## 열벡터로 변환한다. "
   ]
  },
  {
   "cell_type": "code",
   "execution_count": 15,
   "metadata": {},
   "outputs": [
    {
     "data": {
      "text/plain": [
       "array([[1],\n",
       "       [2],\n",
       "       [3],\n",
       "       [4],\n",
       "       [5],\n",
       "       [6],\n",
       "       [7],\n",
       "       [8],\n",
       "       [9]])"
      ]
     },
     "execution_count": 15,
     "metadata": {},
     "output_type": "execute_result"
    }
   ],
   "source": [
    "x"
   ]
  },
  {
   "cell_type": "code",
   "execution_count": 16,
   "metadata": {},
   "outputs": [],
   "source": [
    "y = np.reshape(y,(1,9))                              ## 행벡터로 변환한다. "
   ]
  },
  {
   "cell_type": "code",
   "execution_count": 18,
   "metadata": {},
   "outputs": [
    {
     "data": {
      "text/plain": [
       "array([[7, 8, 9, 4, 5, 6, 1, 2, 3]])"
      ]
     },
     "execution_count": 18,
     "metadata": {},
     "output_type": "execute_result"
    }
   ],
   "source": [
    "y"
   ]
  },
  {
   "cell_type": "code",
   "execution_count": null,
   "metadata": {},
   "outputs": [],
   "source": []
  },
  {
   "cell_type": "code",
   "execution_count": 17,
   "metadata": {},
   "outputs": [
    {
     "data": {
      "text/plain": [
       "array([[ 7,  8,  9,  4,  5,  6,  1,  2,  3],\n",
       "       [14, 16, 18,  8, 10, 12,  2,  4,  6],\n",
       "       [21, 24, 27, 12, 15, 18,  3,  6,  9],\n",
       "       [28, 32, 36, 16, 20, 24,  4,  8, 12],\n",
       "       [35, 40, 45, 20, 25, 30,  5, 10, 15],\n",
       "       [42, 48, 54, 24, 30, 36,  6, 12, 18],\n",
       "       [49, 56, 63, 28, 35, 42,  7, 14, 21],\n",
       "       [56, 64, 72, 32, 40, 48,  8, 16, 24],\n",
       "       [63, 72, 81, 36, 45, 54,  9, 18, 27]])"
      ]
     },
     "execution_count": 17,
     "metadata": {},
     "output_type": "execute_result"
    }
   ],
   "source": [
    "np.dot(x,y)                                         ## 행렬곱으로 계산을 하면 outer와 동일한 결과가 나온다"
   ]
  },
  {
   "cell_type": "code",
   "execution_count": null,
   "metadata": {},
   "outputs": [],
   "source": []
  }
 ],
 "metadata": {
  "kernelspec": {
   "display_name": "Python 3",
   "language": "python",
   "name": "python3"
  },
  "language_info": {
   "codemirror_mode": {
    "name": "ipython",
    "version": 3
   },
   "file_extension": ".py",
   "mimetype": "text/x-python",
   "name": "python",
   "nbconvert_exporter": "python",
   "pygments_lexer": "ipython3",
   "version": "3.7.4"
  }
 },
 "nbformat": 4,
 "nbformat_minor": 2
}
