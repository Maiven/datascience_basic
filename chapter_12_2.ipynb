{
 "cells": [
  {
   "cell_type": "markdown",
   "metadata": {},
   "source": [
    "## 12-2-1 퍼진 정도 알아보기"
   ]
  },
  {
   "cell_type": "code",
   "execution_count": 1,
   "metadata": {},
   "outputs": [],
   "source": [
    "import pandas as pd"
   ]
  },
  {
   "cell_type": "code",
   "execution_count": 2,
   "metadata": {},
   "outputs": [],
   "source": [
    "import numpy as np"
   ]
  },
  {
   "cell_type": "code",
   "execution_count": 3,
   "metadata": {},
   "outputs": [],
   "source": [
    "import scipy as sp"
   ]
  },
  {
   "cell_type": "code",
   "execution_count": 4,
   "metadata": {},
   "outputs": [],
   "source": [
    "df = pd.read_csv(\"apartments.csv\" )                ## csv 파일을 읽는다 "
   ]
  },
  {
   "cell_type": "code",
   "execution_count": 5,
   "metadata": {},
   "outputs": [
    {
     "data": {
      "text/html": [
       "<div>\n",
       "<style scoped>\n",
       "    .dataframe tbody tr th:only-of-type {\n",
       "        vertical-align: middle;\n",
       "    }\n",
       "\n",
       "    .dataframe tbody tr th {\n",
       "        vertical-align: top;\n",
       "    }\n",
       "\n",
       "    .dataframe thead th {\n",
       "        text-align: right;\n",
       "    }\n",
       "</style>\n",
       "<table border=\"1\" class=\"dataframe\">\n",
       "  <thead>\n",
       "    <tr style=\"text-align: right;\">\n",
       "      <th></th>\n",
       "      <th>Unnamed: 0</th>\n",
       "      <th>시군구</th>\n",
       "      <th>번지</th>\n",
       "      <th>본번</th>\n",
       "      <th>부번</th>\n",
       "      <th>단지명</th>\n",
       "      <th>전용면적(㎡)</th>\n",
       "      <th>계약년월</th>\n",
       "      <th>계약일</th>\n",
       "      <th>거래금액(만원)</th>\n",
       "      <th>층</th>\n",
       "      <th>건축년도</th>\n",
       "      <th>도로명</th>\n",
       "    </tr>\n",
       "  </thead>\n",
       "  <tbody>\n",
       "    <tr>\n",
       "      <th>0</th>\n",
       "      <td>0</td>\n",
       "      <td>서울특별시 강남구 개포동</td>\n",
       "      <td>141</td>\n",
       "      <td>141</td>\n",
       "      <td>0</td>\n",
       "      <td>개포주공 1단지</td>\n",
       "      <td>50.64</td>\n",
       "      <td>201902</td>\n",
       "      <td>1~10</td>\n",
       "      <td>162000</td>\n",
       "      <td>2</td>\n",
       "      <td>1982</td>\n",
       "      <td>개포로</td>\n",
       "    </tr>\n",
       "    <tr>\n",
       "      <th>1</th>\n",
       "      <td>1</td>\n",
       "      <td>서울특별시 강남구 개포동</td>\n",
       "      <td>187</td>\n",
       "      <td>187</td>\n",
       "      <td>0</td>\n",
       "      <td>개포주공 5단지</td>\n",
       "      <td>74.25</td>\n",
       "      <td>201902</td>\n",
       "      <td>11~20</td>\n",
       "      <td>153500</td>\n",
       "      <td>1</td>\n",
       "      <td>1983</td>\n",
       "      <td>삼성로4길</td>\n",
       "    </tr>\n",
       "    <tr>\n",
       "      <th>2</th>\n",
       "      <td>2</td>\n",
       "      <td>서울특별시 강남구 개포동</td>\n",
       "      <td>185</td>\n",
       "      <td>185</td>\n",
       "      <td>0</td>\n",
       "      <td>개포주공 6단지</td>\n",
       "      <td>60.13</td>\n",
       "      <td>201902</td>\n",
       "      <td>11~20</td>\n",
       "      <td>130000</td>\n",
       "      <td>5</td>\n",
       "      <td>1983</td>\n",
       "      <td>개포로</td>\n",
       "    </tr>\n",
       "    <tr>\n",
       "      <th>3</th>\n",
       "      <td>3</td>\n",
       "      <td>서울특별시 강남구 개포동</td>\n",
       "      <td>185</td>\n",
       "      <td>185</td>\n",
       "      <td>0</td>\n",
       "      <td>개포주공 7단지</td>\n",
       "      <td>60.76</td>\n",
       "      <td>201902</td>\n",
       "      <td>11~20</td>\n",
       "      <td>130500</td>\n",
       "      <td>9</td>\n",
       "      <td>1983</td>\n",
       "      <td>개포로</td>\n",
       "    </tr>\n",
       "    <tr>\n",
       "      <th>4</th>\n",
       "      <td>4</td>\n",
       "      <td>서울특별시 강남구 개포동</td>\n",
       "      <td>185</td>\n",
       "      <td>185</td>\n",
       "      <td>0</td>\n",
       "      <td>개포주공 7단지</td>\n",
       "      <td>53.46</td>\n",
       "      <td>201902</td>\n",
       "      <td>21~28</td>\n",
       "      <td>114000</td>\n",
       "      <td>14</td>\n",
       "      <td>1983</td>\n",
       "      <td>개포로</td>\n",
       "    </tr>\n",
       "  </tbody>\n",
       "</table>\n",
       "</div>"
      ],
      "text/plain": [
       "   Unnamed: 0            시군구   번지   본번  부번       단지명  전용면적(㎡)    계약년월    계약일  \\\n",
       "0           0  서울특별시 강남구 개포동  141  141   0  개포주공 1단지    50.64  201902   1~10   \n",
       "1           1  서울특별시 강남구 개포동  187  187   0  개포주공 5단지    74.25  201902  11~20   \n",
       "2           2  서울특별시 강남구 개포동  185  185   0  개포주공 6단지    60.13  201902  11~20   \n",
       "3           3  서울특별시 강남구 개포동  185  185   0  개포주공 7단지    60.76  201902  11~20   \n",
       "4           4  서울특별시 강남구 개포동  185  185   0  개포주공 7단지    53.46  201902  21~28   \n",
       "\n",
       "   거래금액(만원)   층  건축년도    도로명  \n",
       "0    162000   2  1982    개포로  \n",
       "1    153500   1  1983  삼성로4길  \n",
       "2    130000   5  1983    개포로  \n",
       "3    130500   9  1983    개포로  \n",
       "4    114000  14  1983    개포로  "
      ]
     },
     "execution_count": 5,
     "metadata": {},
     "output_type": "execute_result"
    }
   ],
   "source": [
    "df.head()"
   ]
  },
  {
   "cell_type": "code",
   "execution_count": 6,
   "metadata": {},
   "outputs": [],
   "source": [
    "df = df.drop('Unnamed: 0', axis=1)"
   ]
  },
  {
   "cell_type": "code",
   "execution_count": 7,
   "metadata": {},
   "outputs": [
    {
     "data": {
      "text/plain": [
       "(1164, 12)"
      ]
     },
     "execution_count": 7,
     "metadata": {},
     "output_type": "execute_result"
    }
   ],
   "source": [
    "df.shape"
   ]
  },
  {
   "cell_type": "code",
   "execution_count": 8,
   "metadata": {},
   "outputs": [
    {
     "name": "stdout",
     "output_type": "stream",
     "text": [
      "<class 'pandas.core.frame.DataFrame'>\n",
      "RangeIndex: 1164 entries, 0 to 1163\n",
      "Data columns (total 12 columns):\n",
      "시군구         1164 non-null object\n",
      "번지          1164 non-null object\n",
      "본번          1164 non-null int64\n",
      "부번          1164 non-null int64\n",
      "단지명         1164 non-null object\n",
      "전용면적(㎡)     1164 non-null float64\n",
      "계약년월        1164 non-null int64\n",
      "계약일         1164 non-null object\n",
      "거래금액(만원)    1164 non-null int64\n",
      "층           1164 non-null int64\n",
      "건축년도        1164 non-null int64\n",
      "도로명         1164 non-null object\n",
      "dtypes: float64(1), int64(6), object(5)\n",
      "memory usage: 109.2+ KB\n"
     ]
    }
   ],
   "source": [
    "df.info()"
   ]
  },
  {
   "cell_type": "code",
   "execution_count": 9,
   "metadata": {},
   "outputs": [
    {
     "data": {
      "text/html": [
       "<div>\n",
       "<style scoped>\n",
       "    .dataframe tbody tr th:only-of-type {\n",
       "        vertical-align: middle;\n",
       "    }\n",
       "\n",
       "    .dataframe tbody tr th {\n",
       "        vertical-align: top;\n",
       "    }\n",
       "\n",
       "    .dataframe thead th {\n",
       "        text-align: right;\n",
       "    }\n",
       "</style>\n",
       "<table border=\"1\" class=\"dataframe\">\n",
       "  <thead>\n",
       "    <tr style=\"text-align: right;\">\n",
       "      <th></th>\n",
       "      <th>거래금액(만원)</th>\n",
       "    </tr>\n",
       "  </thead>\n",
       "  <tbody>\n",
       "    <tr>\n",
       "      <th>count</th>\n",
       "      <td>1164.000000</td>\n",
       "    </tr>\n",
       "    <tr>\n",
       "      <th>mean</th>\n",
       "      <td>58814.713058</td>\n",
       "    </tr>\n",
       "    <tr>\n",
       "      <th>std</th>\n",
       "      <td>46207.115723</td>\n",
       "    </tr>\n",
       "    <tr>\n",
       "      <th>min</th>\n",
       "      <td>7700.000000</td>\n",
       "    </tr>\n",
       "    <tr>\n",
       "      <th>25%</th>\n",
       "      <td>32000.000000</td>\n",
       "    </tr>\n",
       "    <tr>\n",
       "      <th>50%</th>\n",
       "      <td>45850.000000</td>\n",
       "    </tr>\n",
       "    <tr>\n",
       "      <th>75%</th>\n",
       "      <td>69000.000000</td>\n",
       "    </tr>\n",
       "    <tr>\n",
       "      <th>max</th>\n",
       "      <td>630000.000000</td>\n",
       "    </tr>\n",
       "  </tbody>\n",
       "</table>\n",
       "</div>"
      ],
      "text/plain": [
       "            거래금액(만원)\n",
       "count    1164.000000\n",
       "mean    58814.713058\n",
       "std     46207.115723\n",
       "min      7700.000000\n",
       "25%     32000.000000\n",
       "50%     45850.000000\n",
       "75%     69000.000000\n",
       "max    630000.000000"
      ]
     },
     "execution_count": 9,
     "metadata": {},
     "output_type": "execute_result"
    }
   ],
   "source": [
    "df[['거래금액(만원)']].describe()"
   ]
  },
  {
   "cell_type": "code",
   "execution_count": null,
   "metadata": {},
   "outputs": [],
   "source": []
  },
  {
   "cell_type": "code",
   "execution_count": 10,
   "metadata": {},
   "outputs": [
    {
     "data": {
      "text/plain": [
       "거래금액(만원)    2.135098e+09\n",
       "dtype: float64"
      ]
     },
     "execution_count": 10,
     "metadata": {},
     "output_type": "execute_result"
    }
   ],
   "source": [
    "df[['거래금액(만원)']].var()"
   ]
  },
  {
   "cell_type": "code",
   "execution_count": null,
   "metadata": {},
   "outputs": [],
   "source": []
  },
  {
   "cell_type": "code",
   "execution_count": 11,
   "metadata": {},
   "outputs": [
    {
     "data": {
      "text/plain": [
       "거래금액(만원)    46207.115723\n",
       "dtype: float64"
      ]
     },
     "execution_count": 11,
     "metadata": {},
     "output_type": "execute_result"
    }
   ],
   "source": [
    "df[['거래금액(만원)']].std()"
   ]
  },
  {
   "cell_type": "code",
   "execution_count": null,
   "metadata": {},
   "outputs": [],
   "source": []
  },
  {
   "cell_type": "code",
   "execution_count": 12,
   "metadata": {},
   "outputs": [
    {
     "data": {
      "text/plain": [
       "(거래금액(만원)    7700\n",
       " dtype: int64, 거래금액(만원)    630000\n",
       " dtype: int64)"
      ]
     },
     "execution_count": 12,
     "metadata": {},
     "output_type": "execute_result"
    }
   ],
   "source": [
    "df[['거래금액(만원)']].min(), df[['거래금액(만원)']].max()"
   ]
  },
  {
   "cell_type": "code",
   "execution_count": null,
   "metadata": {},
   "outputs": [],
   "source": []
  },
  {
   "cell_type": "code",
   "execution_count": 13,
   "metadata": {},
   "outputs": [
    {
     "data": {
      "text/html": [
       "<div>\n",
       "<style scoped>\n",
       "    .dataframe tbody tr th:only-of-type {\n",
       "        vertical-align: middle;\n",
       "    }\n",
       "\n",
       "    .dataframe tbody tr th {\n",
       "        vertical-align: top;\n",
       "    }\n",
       "\n",
       "    .dataframe thead th {\n",
       "        text-align: right;\n",
       "    }\n",
       "</style>\n",
       "<table border=\"1\" class=\"dataframe\">\n",
       "  <thead>\n",
       "    <tr style=\"text-align: right;\">\n",
       "      <th></th>\n",
       "      <th>시군구</th>\n",
       "      <th>번지</th>\n",
       "      <th>본번</th>\n",
       "      <th>부번</th>\n",
       "      <th>단지명</th>\n",
       "      <th>전용면적(㎡)</th>\n",
       "      <th>계약년월</th>\n",
       "      <th>계약일</th>\n",
       "      <th>거래금액(만원)</th>\n",
       "      <th>층</th>\n",
       "      <th>건축년도</th>\n",
       "      <th>도로명</th>\n",
       "    </tr>\n",
       "  </thead>\n",
       "  <tbody>\n",
       "    <tr>\n",
       "      <th>312</th>\n",
       "      <td>서울특별시 구로구 오류동</td>\n",
       "      <td>34-13</td>\n",
       "      <td>34</td>\n",
       "      <td>13</td>\n",
       "      <td>썬앤빌</td>\n",
       "      <td>14.064</td>\n",
       "      <td>201902</td>\n",
       "      <td>1~10</td>\n",
       "      <td>7700</td>\n",
       "      <td>7</td>\n",
       "      <td>2014</td>\n",
       "      <td>경인로19가길</td>\n",
       "    </tr>\n",
       "    <tr>\n",
       "      <th>1120</th>\n",
       "      <td>서울특별시 중랑구 망우동</td>\n",
       "      <td>506-8</td>\n",
       "      <td>506</td>\n",
       "      <td>8</td>\n",
       "      <td>EG Soul Leader</td>\n",
       "      <td>13.420</td>\n",
       "      <td>201902</td>\n",
       "      <td>21~28</td>\n",
       "      <td>8900</td>\n",
       "      <td>6</td>\n",
       "      <td>2012</td>\n",
       "      <td>상봉로</td>\n",
       "    </tr>\n",
       "    <tr>\n",
       "      <th>265</th>\n",
       "      <td>서울특별시 구로구 구로동</td>\n",
       "      <td>797-19</td>\n",
       "      <td>797</td>\n",
       "      <td>19</td>\n",
       "      <td>(797-19)</td>\n",
       "      <td>35.580</td>\n",
       "      <td>201902</td>\n",
       "      <td>21~28</td>\n",
       "      <td>9000</td>\n",
       "      <td>1</td>\n",
       "      <td>1995</td>\n",
       "      <td>디지털로27라길</td>\n",
       "    </tr>\n",
       "  </tbody>\n",
       "</table>\n",
       "</div>"
      ],
      "text/plain": [
       "                시군구      번지   본번  부번             단지명  전용면적(㎡)    계약년월    계약일  \\\n",
       "312   서울특별시 구로구 오류동   34-13   34  13             썬앤빌   14.064  201902   1~10   \n",
       "1120  서울특별시 중랑구 망우동   506-8  506   8  EG Soul Leader   13.420  201902  21~28   \n",
       "265   서울특별시 구로구 구로동  797-19  797  19        (797-19)   35.580  201902  21~28   \n",
       "\n",
       "      거래금액(만원)  층  건축년도       도로명  \n",
       "312       7700  7  2014   경인로19가길  \n",
       "1120      8900  6  2012       상봉로  \n",
       "265       9000  1  1995  디지털로27라길  "
      ]
     },
     "execution_count": 13,
     "metadata": {},
     "output_type": "execute_result"
    }
   ],
   "source": [
    "df.nsmallest(3, ['거래금액(만원)'])               ## 거래금액이 작은 것을 조회한다 "
   ]
  },
  {
   "cell_type": "code",
   "execution_count": null,
   "metadata": {},
   "outputs": [],
   "source": []
  },
  {
   "cell_type": "code",
   "execution_count": 14,
   "metadata": {},
   "outputs": [
    {
     "data": {
      "text/html": [
       "<div>\n",
       "<style scoped>\n",
       "    .dataframe tbody tr th:only-of-type {\n",
       "        vertical-align: middle;\n",
       "    }\n",
       "\n",
       "    .dataframe tbody tr th {\n",
       "        vertical-align: top;\n",
       "    }\n",
       "\n",
       "    .dataframe thead th {\n",
       "        text-align: right;\n",
       "    }\n",
       "</style>\n",
       "<table border=\"1\" class=\"dataframe\">\n",
       "  <thead>\n",
       "    <tr style=\"text-align: right;\">\n",
       "      <th></th>\n",
       "      <th>시군구</th>\n",
       "      <th>번지</th>\n",
       "      <th>본번</th>\n",
       "      <th>부번</th>\n",
       "      <th>단지명</th>\n",
       "      <th>전용면적(㎡)</th>\n",
       "      <th>계약년월</th>\n",
       "      <th>계약일</th>\n",
       "      <th>거래금액(만원)</th>\n",
       "      <th>층</th>\n",
       "      <th>건축년도</th>\n",
       "      <th>도로명</th>\n",
       "    </tr>\n",
       "  </thead>\n",
       "  <tbody>\n",
       "    <tr>\n",
       "      <th>1007</th>\n",
       "      <td>서울특별시 용산구 한남동</td>\n",
       "      <td>810</td>\n",
       "      <td>810</td>\n",
       "      <td>0</td>\n",
       "      <td>한남더힐</td>\n",
       "      <td>240.23</td>\n",
       "      <td>201902</td>\n",
       "      <td>1~10</td>\n",
       "      <td>630000</td>\n",
       "      <td>-2</td>\n",
       "      <td>2011</td>\n",
       "      <td>독서당로</td>\n",
       "    </tr>\n",
       "    <tr>\n",
       "      <th>740</th>\n",
       "      <td>서울특별시 성동구 성수동1가</td>\n",
       "      <td>685-696</td>\n",
       "      <td>685</td>\n",
       "      <td>696</td>\n",
       "      <td>갤러리아 포레</td>\n",
       "      <td>195.20</td>\n",
       "      <td>201902</td>\n",
       "      <td>21~28</td>\n",
       "      <td>319000</td>\n",
       "      <td>13</td>\n",
       "      <td>2011</td>\n",
       "      <td>서울숲2길</td>\n",
       "    </tr>\n",
       "    <tr>\n",
       "      <th>9</th>\n",
       "      <td>서울특별시 강남구 대치동</td>\n",
       "      <td>670</td>\n",
       "      <td>670</td>\n",
       "      <td>0</td>\n",
       "      <td>동부센트레빌</td>\n",
       "      <td>161.47</td>\n",
       "      <td>201902</td>\n",
       "      <td>11~20</td>\n",
       "      <td>310000</td>\n",
       "      <td>22</td>\n",
       "      <td>2005</td>\n",
       "      <td>선릉로</td>\n",
       "    </tr>\n",
       "  </tbody>\n",
       "</table>\n",
       "</div>"
      ],
      "text/plain": [
       "                  시군구       번지   본번   부번      단지명  전용면적(㎡)    계약년월    계약일  \\\n",
       "1007    서울특별시 용산구 한남동      810  810    0     한남더힐   240.23  201902   1~10   \n",
       "740   서울특별시 성동구 성수동1가  685-696  685  696  갤러리아 포레   195.20  201902  21~28   \n",
       "9       서울특별시 강남구 대치동      670  670    0   동부센트레빌   161.47  201902  11~20   \n",
       "\n",
       "      거래금액(만원)   층  건축년도    도로명  \n",
       "1007    630000  -2  2011   독서당로  \n",
       "740     319000  13  2011  서울숲2길  \n",
       "9       310000  22  2005    선릉로  "
      ]
     },
     "execution_count": 14,
     "metadata": {},
     "output_type": "execute_result"
    }
   ],
   "source": [
    "df.nlargest(3, ['거래금액(만원)'])            ## 큰 거래금액을 조회한다 "
   ]
  },
  {
   "cell_type": "code",
   "execution_count": null,
   "metadata": {},
   "outputs": [],
   "source": []
  },
  {
   "cell_type": "code",
   "execution_count": null,
   "metadata": {},
   "outputs": [],
   "source": []
  },
  {
   "cell_type": "code",
   "execution_count": 15,
   "metadata": {},
   "outputs": [
    {
     "data": {
      "text/html": [
       "<div>\n",
       "<style scoped>\n",
       "    .dataframe tbody tr th:only-of-type {\n",
       "        vertical-align: middle;\n",
       "    }\n",
       "\n",
       "    .dataframe tbody tr th {\n",
       "        vertical-align: top;\n",
       "    }\n",
       "\n",
       "    .dataframe thead th {\n",
       "        text-align: right;\n",
       "    }\n",
       "</style>\n",
       "<table border=\"1\" class=\"dataframe\">\n",
       "  <thead>\n",
       "    <tr style=\"text-align: right;\">\n",
       "      <th></th>\n",
       "      <th>거래금액(만원)</th>\n",
       "    </tr>\n",
       "  </thead>\n",
       "  <tbody>\n",
       "    <tr>\n",
       "      <th>0.25</th>\n",
       "      <td>32000.0</td>\n",
       "    </tr>\n",
       "    <tr>\n",
       "      <th>0.50</th>\n",
       "      <td>45850.0</td>\n",
       "    </tr>\n",
       "    <tr>\n",
       "      <th>0.75</th>\n",
       "      <td>69000.0</td>\n",
       "    </tr>\n",
       "  </tbody>\n",
       "</table>\n",
       "</div>"
      ],
      "text/plain": [
       "      거래금액(만원)\n",
       "0.25   32000.0\n",
       "0.50   45850.0\n",
       "0.75   69000.0"
      ]
     },
     "execution_count": 15,
     "metadata": {},
     "output_type": "execute_result"
    }
   ],
   "source": [
    "df[['거래금액(만원)']].quantile([.25, .5, .75])"
   ]
  },
  {
   "cell_type": "code",
   "execution_count": null,
   "metadata": {},
   "outputs": [],
   "source": []
  },
  {
   "cell_type": "code",
   "execution_count": 16,
   "metadata": {},
   "outputs": [],
   "source": [
    "%matplotlib inline"
   ]
  },
  {
   "cell_type": "code",
   "execution_count": 17,
   "metadata": {},
   "outputs": [],
   "source": [
    "import matplotlib.pyplot as plt\n",
    "import matplotlib as mpl"
   ]
  },
  {
   "cell_type": "code",
   "execution_count": 18,
   "metadata": {},
   "outputs": [],
   "source": [
    "import sys\n",
    "import matplotlib.font_manager as fm\n",
    "\n",
    "# 그래프에서 마이너스 폰트 깨지는 문제에 대한 대처\n",
    "mpl.rcParams['axes.unicode_minus'] = False"
   ]
  },
  {
   "cell_type": "code",
   "execution_count": 19,
   "metadata": {},
   "outputs": [],
   "source": [
    "## 맥에서 폰트 확인하기"
   ]
  },
  {
   "cell_type": "code",
   "execution_count": 20,
   "metadata": {},
   "outputs": [],
   "source": [
    "if sys.platform == 'darwin' : \n",
    "    font = [(f.name, f.fname) for f in fm.fontManager.ttflist if 'Nanum' in f.name]"
   ]
  },
  {
   "cell_type": "code",
   "execution_count": 21,
   "metadata": {},
   "outputs": [
    {
     "ename": "NameError",
     "evalue": "name 'font' is not defined",
     "output_type": "error",
     "traceback": [
      "\u001b[1;31m---------------------------------------------------------------------------\u001b[0m",
      "\u001b[1;31mNameError\u001b[0m                                 Traceback (most recent call last)",
      "\u001b[1;32m<ipython-input-21-e88347ccfcdf>\u001b[0m in \u001b[0;36m<module>\u001b[1;34m\u001b[0m\n\u001b[1;32m----> 1\u001b[1;33m \u001b[0mfont\u001b[0m\u001b[1;33m\u001b[0m\u001b[1;33m\u001b[0m\u001b[0m\n\u001b[0m",
      "\u001b[1;31mNameError\u001b[0m: name 'font' is not defined"
     ]
    }
   ],
   "source": [
    "font"
   ]
  },
  {
   "cell_type": "code",
   "execution_count": null,
   "metadata": {},
   "outputs": [],
   "source": []
  },
  {
   "cell_type": "code",
   "execution_count": 22,
   "metadata": {},
   "outputs": [],
   "source": [
    "if sys.platform == 'darwin' : \n",
    "    path = '/System/Library/Assets/com_apple_MobileAsset_Font4/6312deadbf7f783147b59e13758d5a78918faab7.asset/AssetData/NanumGothic.ttc'\n",
    "    font_name = fm.FontProperties(fname=path, size=50).get_name()\n",
    "    print(font_name)\n",
    "    plt.rc('font', family=font_name)\n",
    "\n",
    "else :\n",
    "    plt.rc('font', family='Malgun Gothic')"
   ]
  },
  {
   "cell_type": "code",
   "execution_count": null,
   "metadata": {},
   "outputs": [],
   "source": []
  },
  {
   "cell_type": "code",
   "execution_count": 23,
   "metadata": {},
   "outputs": [],
   "source": [
    "import seaborn as sns"
   ]
  },
  {
   "cell_type": "code",
   "execution_count": null,
   "metadata": {},
   "outputs": [],
   "source": []
  },
  {
   "cell_type": "code",
   "execution_count": 24,
   "metadata": {},
   "outputs": [
    {
     "data": {
      "text/plain": [
       "<matplotlib.axes._subplots.AxesSubplot at 0x25b37ff1f60>"
      ]
     },
     "execution_count": 24,
     "metadata": {},
     "output_type": "execute_result"
    },
    {
     "data": {
      "image/png": "[encoded data removed]",
      "text/plain": [
       "<Figure size 432x288 with 1 Axes>"
      ]
     },
     "metadata": {
      "needs_background": "light"
     },
     "output_type": "display_data"
    }
   ],
   "source": [
    "sns.boxplot(x=df[['거래금액(만원)']])                     ## 박스 그래프를 그린다 "
   ]
  },
  {
   "cell_type": "code",
   "execution_count": 25,
   "metadata": {},
   "outputs": [
    {
     "data": {
      "text/plain": [
       "<matplotlib.axes._subplots.AxesSubplot at 0x25b3a0e2668>"
      ]
     },
     "execution_count": 25,
     "metadata": {},
     "output_type": "execute_result"
    },
    {
     "data": {
      "image/png": "[encoded data removed]",
      "text/plain": [
       "<Figure size 432x288 with 1 Axes>"
      ]
     },
     "metadata": {
      "needs_background": "light"
     },
     "output_type": "display_data"
    }
   ],
   "source": [
    "sns.boxplot( x='계약년월', y='거래금액(만원)', data=df)        ## 박스그래프를 두 개로 분리한다 "
   ]
  },
  {
   "cell_type": "code",
   "execution_count": 26,
   "metadata": {},
   "outputs": [
    {
     "data": {
      "text/plain": [
       "<matplotlib.axes._subplots.AxesSubplot at 0x25b3b15ba20>"
      ]
     },
     "execution_count": 26,
     "metadata": {},
     "output_type": "execute_result"
    },
    {
     "data": {
      "image/png": "[encoded data removed]",
      "text/plain": [
       "<Figure size 432x288 with 1 Axes>"
      ]
     },
     "metadata": {
      "needs_background": "light"
     },
     "output_type": "display_data"
    }
   ],
   "source": [
    "sns.boxplot(x='계약년월', y='전용면적(㎡)', hue=\"계약일\",data=df, palette=\"Set3\")    ## 박스 그래프의 내용을 hue를 추가해서 세분화한다 "
   ]
  },
  {
   "cell_type": "markdown",
   "metadata": {},
   "source": [
    "### 왜도와 첨도"
   ]
  },
  {
   "cell_type": "code",
   "execution_count": 27,
   "metadata": {},
   "outputs": [
    {
     "data": {
      "text/plain": [
       "거래금액(만원)    3.323032\n",
       "dtype: float64"
      ]
     },
     "execution_count": 27,
     "metadata": {},
     "output_type": "execute_result"
    }
   ],
   "source": [
    "df[['거래금액(만원)']].skew()                              ##  평균에서 치우친 정도를 구한다 "
   ]
  },
  {
   "cell_type": "code",
   "execution_count": 28,
   "metadata": {},
   "outputs": [
    {
     "data": {
      "text/plain": [
       "거래금액(만원)    23.694861\n",
       "dtype: float64"
      ]
     },
     "execution_count": 28,
     "metadata": {},
     "output_type": "execute_result"
    }
   ],
   "source": [
    "df[['거래금액(만원)']].kurtosis()                         ## 중앙값에 모인 정도를 구한다 "
   ]
  },
  {
   "cell_type": "markdown",
   "metadata": {},
   "source": [
    "## 왜도와 평균 비교하기"
   ]
  },
  {
   "cell_type": "code",
   "execution_count": 29,
   "metadata": {},
   "outputs": [],
   "source": [
    "x = df['거래금액(만원)']\n",
    "sample_mean = int(x.mean())\n",
    "sample_skew = df[['거래금액(만원)']].skew()[0]"
   ]
  },
  {
   "cell_type": "code",
   "execution_count": null,
   "metadata": {},
   "outputs": [],
   "source": []
  },
  {
   "cell_type": "code",
   "execution_count": 30,
   "metadata": {},
   "outputs": [
    {
     "data": {
      "image/png": "[encoded data removed]",
      "text/plain": [
       "<Figure size 432x288 with 1 Axes>"
      ]
     },
     "metadata": {
      "needs_background": "light"
     },
     "output_type": "display_data"
    }
   ],
   "source": [
    "sns.distplot(x)                                                   ## 선그래프와 히스토그램을 그린다. \n",
    "plt.axvline(sample_mean, c='k', ls=\"-.\", label=\"평균\")            ## 평균과 왜도를 직선으로 그린다. \n",
    "plt.axvline(sample_skew , c='b', ls=\"-.\", label=\"왜도\")\n",
    "\n",
    "plt.title(\"왜도, 평균의 차이\")\n",
    "plt.xlabel(\"x\")\n",
    "plt.legend()\n",
    "plt.show()"
   ]
  },
  {
   "cell_type": "code",
   "execution_count": null,
   "metadata": {},
   "outputs": [],
   "source": []
  },
  {
   "cell_type": "code",
   "execution_count": 31,
   "metadata": {},
   "outputs": [],
   "source": [
    "x = np.log10(df['거래금액(만원)'])\n",
    "sample_mean = x.mean()\n",
    "sample_skew = sp.stats.skew(df[['거래금액(만원)']])[0]"
   ]
  },
  {
   "cell_type": "code",
   "execution_count": 32,
   "metadata": {},
   "outputs": [
    {
     "data": {
      "text/plain": [
       "(4.673121395132599, 3.318747789590563)"
      ]
     },
     "execution_count": 32,
     "metadata": {},
     "output_type": "execute_result"
    }
   ],
   "source": [
    "sample_mean,sample_skew"
   ]
  },
  {
   "cell_type": "code",
   "execution_count": 33,
   "metadata": {},
   "outputs": [
    {
     "data": {
      "image/png": "[encoded data removed]",
      "text/plain": [
       "<Figure size 432x288 with 1 Axes>"
      ]
     },
     "metadata": {
      "needs_background": "light"
     },
     "output_type": "display_data"
    }
   ],
   "source": [
    "sns.distplot(x)\n",
    "plt.axvline(sample_mean, c='k', ls=\"-.\", label=\"평균\")\n",
    "plt.axvline(sample_skew , c='b', ls=\"-.\", label=\"왜도\")\n",
    "\n",
    "plt.title(\"왜도, 평균의 차이\")\n",
    "plt.xlabel(\"x\")\n",
    "plt.legend()\n",
    "plt.show()"
   ]
  },
  {
   "cell_type": "code",
   "execution_count": null,
   "metadata": {},
   "outputs": [],
   "source": []
  },
  {
   "cell_type": "code",
   "execution_count": null,
   "metadata": {},
   "outputs": [],
   "source": []
  }
 ],
 "metadata": {
  "kernelspec": {
   "display_name": "Python 3",
   "language": "python",
   "name": "python3"
  },
  "language_info": {
   "codemirror_mode": {
    "name": "ipython",
    "version": 3
   },
   "file_extension": ".py",
   "mimetype": "text/x-python",
   "name": "python",
   "nbconvert_exporter": "python",
   "pygments_lexer": "ipython3",
   "version": "3.7.3"
  }
 },
 "nbformat": 4,
 "nbformat_minor": 2
}
